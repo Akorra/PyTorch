{
 "cells": [
  {
   "cell_type": "markdown",
   "id": "682f1966",
   "metadata": {},
   "source": [
    "###### AUTOMATIC DIFFERENTIATION WITH <code>torch.autograd</code>\n",
    "\n",
    "When training neural networks, the most frequently used algorithm is back propagation. In this algorithm, parameters (model weights) are adjusted according to the gradient of the loss function with respect to the given parameter.\n",
    "\n",
    "To compute those gradients, PyTorch has a built-in differentiation engine called torch.autograd. It supports automatic computation of gradient for any computational graph.\n",
    "\n",
    "Consider the simplest one-layer neural network, with input x, parameters w and b, and some loss function. It can be defined in PyTorch in the following manner:"
   ]
  },
  {
   "cell_type": "code",
   "execution_count": 1,
   "id": "6ac4b605",
   "metadata": {},
   "outputs": [],
   "source": [
    "import torch"
   ]
  },
  {
   "cell_type": "code",
   "execution_count": 2,
   "id": "26f074e6",
   "metadata": {},
   "outputs": [],
   "source": [
    "x = torch.ones(5)  # input tensor\n",
    "y = torch.zeros(3)  # expected output\n",
    "w = torch.randn(5, 3, requires_grad=True)\n",
    "b = torch.randn(3, requires_grad=True)\n",
    "z = torch.matmul(x, w)+b\n",
    "loss = torch.nn.functional.binary_cross_entropy_with_logits(z, y)"
   ]
  },
  {
   "cell_type": "markdown",
   "id": "a681678b",
   "metadata": {},
   "source": [
    "__Tensors, Functions and Computational graph__\n",
    "\n",
    "In this network, w and b are parameters, which we need to optimize. Thus, we need to be able to compute the gradients of loss function with respect to those variables. In order to do that, we set the <code>requires_grad</code> property of those tensors.\n",
    "\n",
    "__*You can set the value of <code>requires_grad</code> when creating a tensor, or later by using <code>x.requires_grad_(True)</code> method.__\n",
    "\n",
    "![computational graph](imgs/comp-graph.png)"
   ]
  },
  {
   "cell_type": "markdown",
   "id": "9ded8ae5",
   "metadata": {},
   "source": [
    "A function that we apply to tensors to construct computational graph is in fact an object of class <code>Function</code>. This object knows how to compute the function in the forward direction, and also how to compute its derivative during the backward propagation step. A reference to the backward propagation function is stored in <code>grad_fn</code> property of a tensor. You can find more information of <code>Function</code> in the [documentation](https://pytorch.org/docs/stable/autograd.html#function)."
   ]
  },
  {
   "cell_type": "code",
   "execution_count": 3,
   "id": "e3d6b1b5",
   "metadata": {},
   "outputs": [
    {
     "name": "stdout",
     "output_type": "stream",
     "text": [
      "Gradient function for z = <AddBackward0 object at 0x7f88d4c85340>\n",
      "Gradient function for loss = <BinaryCrossEntropyWithLogitsBackward object at 0x7f88d4c853a0>\n"
     ]
    }
   ],
   "source": [
    "print('Gradient function for z =', z.grad_fn)\n",
    "print('Gradient function for loss =', loss.grad_fn)"
   ]
  },
  {
   "cell_type": "markdown",
   "id": "1a635505",
   "metadata": {},
   "source": [
    "__Computing Gradients__\n",
    "\n",
    "To optimize weights of parameters in the neural network, we need to compute the derivatives of our loss function with respect to parameters, namely, we need __∂loss/∂w__ and __∂loss/∂b__ under some fixed values of <code>x</code> and <code>y</code>.\n",
    "\n",
    "\n",
    "To compute those derivatives, we call <code>loss.backward()</code>, and then retrieve the values from <code>w.grad</code> and <code>b.grad</code>:\n",
    "\n",
    " "
   ]
  },
  {
   "cell_type": "code",
   "execution_count": 4,
   "id": "27878a84",
   "metadata": {},
   "outputs": [
    {
     "name": "stdout",
     "output_type": "stream",
     "text": [
      "tensor([[0.0018, 0.3236, 0.1107],\n",
      "        [0.0018, 0.3236, 0.1107],\n",
      "        [0.0018, 0.3236, 0.1107],\n",
      "        [0.0018, 0.3236, 0.1107],\n",
      "        [0.0018, 0.3236, 0.1107]])\n",
      "tensor([0.0018, 0.3236, 0.1107])\n"
     ]
    }
   ],
   "source": [
    "loss.backward()\n",
    "print(w.grad)\n",
    "print(b.grad)"
   ]
  },
  {
   "cell_type": "markdown",
   "id": "7831bac6",
   "metadata": {},
   "source": [
    "We can only obtain the <code>grad</code> properties for the leaf nodes of the computational graph, which have <code>requires_grad</code> property set to <code>True</code>. For all other nodes in our graph, gradients will not be available.\n",
    "\n",
    "We can only perform gradient calculations using <code>backward</code> once on a given graph, for performance reasons. If we need to do several <code>backward</code> calls on the same graph, we need to pass <code>retain_graph=True</code> to the <code>backward</code> call."
   ]
  },
  {
   "cell_type": "markdown",
   "id": "8326c83c",
   "metadata": {},
   "source": [
    "__Disabling Gradient Tracking__\n",
    "\n",
    "By default, all tensors with <code>requires_grad=True</code> are tracking their computational history and support gradient computation. However, there are some cases when we do not need to do that, for example, when we have trained the model and just want to apply it to some input data, i.e. we only want to do forward computations through the network. We can stop tracking computations by surrounding our computation code with <code>torch.no_grad()</code> block:"
   ]
  },
  {
   "cell_type": "code",
   "execution_count": 5,
   "id": "00de3c9a",
   "metadata": {},
   "outputs": [
    {
     "name": "stdout",
     "output_type": "stream",
     "text": [
      "True\n",
      "False\n"
     ]
    }
   ],
   "source": [
    "z = torch.matmul(x, w)+b\n",
    "print(z.requires_grad)\n",
    "\n",
    "with torch.no_grad():\n",
    "    z = torch.matmul(x, w)+b\n",
    "print(z.requires_grad)"
   ]
  },
  {
   "cell_type": "code",
   "execution_count": 6,
   "id": "11ec44b0",
   "metadata": {},
   "outputs": [
    {
     "name": "stdout",
     "output_type": "stream",
     "text": [
      "False\n"
     ]
    }
   ],
   "source": [
    "# Another way to achieve the same result is to use the detach() method on the tensor:\n",
    "z = torch.matmul(x, w)+b\n",
    "z_det = z.detach()\n",
    "print(z_det.requires_grad)"
   ]
  },
  {
   "cell_type": "markdown",
   "id": "d89d9965",
   "metadata": {},
   "source": [
    "__There are reasons you might want to disable gradient tracking:__\n",
    "<ul>\n",
    "<li>To mark some parameters in your neural network as frozen parameters. This is a very common scenario for <b>finetuning a pretrained network</b> </li>\n",
    "<li>To speed up computations when you are only doing forward pass, because computations on tensors that do not track gradients would be more efficient.</li>\n",
    "</ul>"
   ]
  },
  {
   "cell_type": "markdown",
   "id": "d1468775",
   "metadata": {},
   "source": [
    "__More on Computational Graphs__\n",
    "\n",
    "Conceptually, autograd keeps a record of data (tensors) and all executed operations (along with the resulting new tensors) in a directed acyclic graph (DAG) consisting of Function objects. In this DAG, leaves are the input tensors, roots are the output tensors. By tracing this graph from roots to leaves, you can automatically compute the gradients using the chain rule.\n",
    "\n",
    "In a forward pass, autograd does two things simultaneously:\n",
    "<ul>\n",
    "<li>run the requested operation to compute a resulting tensor</li>\n",
    "<li>maintain the operation’s gradient function in the DAG.</li>\n",
    "</ul>\n",
    "\n",
    "The backward pass kicks off when <code>.backward()</code> is called on the DAG root. autograd then:\n",
    "<ul>\n",
    "<li>computes the gradients from each <code>.grad_fn</code>,</li>\n",
    "<li>accumulates them in the respective tensor’s <code>.grad</code> attribute</li>\n",
    "<li>using the chain rule, propagates all the way to the leaf tensors.</li>\n",
    "</ul>"
   ]
  },
  {
   "cell_type": "markdown",
   "id": "c071f2ec",
   "metadata": {},
   "source": [
    "__Note:__ DAGs are dynamic in PyTorch An important thing to note is that the graph is recreated from scratch; after each <code>.backward()</code> call, autograd starts populating a new graph. This is exactly what allows you to use control flow statements in your model; you can change the shape, size and operations at every iteration if needed."
   ]
  },
  {
   "cell_type": "markdown",
   "id": "a9e6f518",
   "metadata": {},
   "source": [
    "__Tensor Gradients and Jacobian Products__\n",
    "\n",
    "In many cases, we have a scalar loss function, and we need to compute the gradient with respect to some parameters. However, there are cases when the output function is an arbitrary tensor. In this case, PyTorch allows you to compute so-called __Jacobian product__, and not the actual gradient.\n",
    "\n",
    "![jacobian](imgs/jacobian.png)"
   ]
  },
  {
   "cell_type": "code",
   "execution_count": 7,
   "id": "0c2faa3d",
   "metadata": {
    "scrolled": true
   },
   "outputs": [
    {
     "name": "stdout",
     "output_type": "stream",
     "text": [
      "First call\n",
      " tensor([[4., 2., 2., 2., 2.],\n",
      "        [2., 4., 2., 2., 2.],\n",
      "        [2., 2., 4., 2., 2.],\n",
      "        [2., 2., 2., 4., 2.],\n",
      "        [2., 2., 2., 2., 4.]])\n",
      "\n",
      "Second call\n",
      " tensor([[8., 4., 4., 4., 4.],\n",
      "        [4., 8., 4., 4., 4.],\n",
      "        [4., 4., 8., 4., 4.],\n",
      "        [4., 4., 4., 8., 4.],\n",
      "        [4., 4., 4., 4., 8.]])\n",
      "\n",
      "Call after zeroing gradients\n",
      " tensor([[4., 2., 2., 2., 2.],\n",
      "        [2., 4., 2., 2., 2.],\n",
      "        [2., 2., 4., 2., 2.],\n",
      "        [2., 2., 2., 4., 2.],\n",
      "        [2., 2., 2., 2., 4.]])\n"
     ]
    }
   ],
   "source": [
    "inp = torch.eye(5, requires_grad=True)\n",
    "out = (inp+1).pow(2)\n",
    "out.backward(torch.ones_like(inp), retain_graph=True)\n",
    "print(\"First call\\n\", inp.grad)\n",
    "out.backward(torch.ones_like(inp), retain_graph=True)\n",
    "print(\"\\nSecond call\\n\", inp.grad)\n",
    "inp.grad.zero_()\n",
    "out.backward(torch.ones_like(inp), retain_graph=True)\n",
    "print(\"\\nCall after zeroing gradients\\n\", inp.grad)"
   ]
  },
  {
   "cell_type": "markdown",
   "id": "23e410cd",
   "metadata": {},
   "source": [
    "Notice that when we call backward for the second time with the same argument, the value of the gradient is different. This happens because when doing backward propagation, PyTorch accumulates the gradients, i.e. the value of computed gradients is added to the grad property of all leaf nodes of computational graph. If you want to compute the proper gradients, you need to zero out the grad property before. In real-life training an optimizer helps us to do this."
   ]
  },
  {
   "cell_type": "markdown",
   "id": "336129da",
   "metadata": {},
   "source": [
    "__Note:__ Previously we were calling <code>backward()</code> function without parameters. This is essentially equivalent to calling <code>backward(torch.tensor(1.0))</code>, which is a useful way to compute the gradients in case of a scalar-valued function, such as loss during neural network training."
   ]
  },
  {
   "cell_type": "code",
   "execution_count": null,
   "id": "42fbea95",
   "metadata": {},
   "outputs": [],
   "source": []
  }
 ],
 "metadata": {
  "kernelspec": {
   "display_name": "Python 3 (ipykernel)",
   "language": "python",
   "name": "python3"
  },
  "language_info": {
   "codemirror_mode": {
    "name": "ipython",
    "version": 3
   },
   "file_extension": ".py",
   "mimetype": "text/x-python",
   "name": "python",
   "nbconvert_exporter": "python",
   "pygments_lexer": "ipython3",
   "version": "3.9.6"
  }
 },
 "nbformat": 4,
 "nbformat_minor": 5
}
