{
 "cells": [
  {
   "cell_type": "markdown",
   "id": "2b1cb9dd",
   "metadata": {},
   "source": [
    "__OPTIMIZING MODEL PARAMETERS__\n",
    "\n",
    "Now that we have a model and data it’s time to train, validate and test our model by optimizing its parameters on our data. Training a model is an iterative process; in each iteration (called an epoch) the model makes a guess about the output, calculates the error in its guess (loss), collects the derivatives of the error with respect to its parameters (as we saw in the previous section), and optimizes these parameters using gradient descent. For a more detailed walkthrough of this process, check out this video on [backpropagation from 3Blue1Brown](https://www.youtube.com/watch?v=tIeHLnjs5U8)."
   ]
  },
  {
   "cell_type": "code",
   "execution_count": 1,
   "id": "de24a278",
   "metadata": {},
   "outputs": [],
   "source": [
    "import torch\n",
    "from torch import nn\n",
    "from torch.utils.data import DataLoader\n",
    "from torchvision import datasets\n",
    "from torchvision.transforms import ToTensor, Lambda"
   ]
  },
  {
   "cell_type": "code",
   "execution_count": 2,
   "id": "94fc3b89",
   "metadata": {},
   "outputs": [
    {
     "name": "stderr",
     "output_type": "stream",
     "text": [
      "/home/akorra/.local/lib/python3.9/site-packages/torchvision/datasets/mnist.py:498: UserWarning: The given NumPy array is not writeable, and PyTorch does not support non-writeable tensors. This means you can write to the underlying (supposedly non-writeable) NumPy array using the tensor. You may want to copy the array to protect its data or make it writeable before converting it to a tensor. This type of warning will be suppressed for the rest of this program. (Triggered internally at  /pytorch/torch/csrc/utils/tensor_numpy.cpp:180.)\n",
      "  return torch.from_numpy(parsed.astype(m[2], copy=False)).view(*s)\n"
     ]
    }
   ],
   "source": [
    "training_data = datasets.FashionMNIST(\n",
    "    root=\"data\",\n",
    "    train=True,\n",
    "    download=True,\n",
    "    transform=ToTensor()\n",
    ")\n",
    "\n",
    "test_data = datasets.FashionMNIST(\n",
    "    root=\"data\",\n",
    "    train=False,\n",
    "    download=True,\n",
    "    transform=ToTensor()\n",
    ")"
   ]
  },
  {
   "cell_type": "code",
   "execution_count": 4,
   "id": "41c1ebab",
   "metadata": {},
   "outputs": [],
   "source": [
    "train_dataloader = DataLoader(training_data, batch_size=64)\n",
    "test_dataloader = DataLoader(test_data, batch_size=64)"
   ]
  },
  {
   "cell_type": "code",
   "execution_count": 5,
   "id": "971115db",
   "metadata": {},
   "outputs": [],
   "source": [
    "class NeuralNetwork(nn.Module):\n",
    "    def __init__(self):\n",
    "        super(NeuralNetwork, self).__init__()\n",
    "        self.flatten = nn.Flatten()\n",
    "        self.linear_relu_stack = nn.Sequential(\n",
    "            nn.Linear(28*28, 512),\n",
    "            nn.ReLU(),\n",
    "            nn.Linear(512, 512),\n",
    "            nn.ReLU(),\n",
    "            nn.Linear(512, 10),\n",
    "            nn.ReLU()\n",
    "        )\n",
    "\n",
    "    def forward(self, x):\n",
    "        x = self.flatten(x)\n",
    "        logits = self.linear_relu_stack(x)\n",
    "        return logits\n",
    "\n",
    "model = NeuralNetwork()"
   ]
  },
  {
   "cell_type": "markdown",
   "id": "d48be04e",
   "metadata": {},
   "source": [
    "__Hyperparameters__\n",
    "\n",
    "Hyperparameters are adjustable parameters that let you control the model optimization process. Different hyperparameter values can impact model training and convergence rates ([read more about](https://pytorch.org/tutorials/beginner/hyperparameter_tuning_tutorial.html) hyperparameter tuning)\n",
    "\n"
   ]
  },
  {
   "cell_type": "markdown",
   "id": "ae4a1174",
   "metadata": {},
   "source": [
    "We define the following hyperparameters for training:\n",
    "<ul>\n",
    "    <li><b>Number of Epochs</b> - the number times to iterate over the dataset</li>\n",
    "    <li><b>Batch Size</b> - the number of data samples propagated through the network before the parameters are updated</li>\n",
    "    <li><b>Learning Rate</b> - how much to update models parameters at each batch/epoch. Smaller values yield slow learning speed, while large values may result in unpredictable behavior during training.</li>\n",
    "</ul>"
   ]
  },
  {
   "cell_type": "code",
   "execution_count": 6,
   "id": "44b2db7e",
   "metadata": {},
   "outputs": [],
   "source": [
    "learning_rate = 1e-3\n",
    "batch_size = 64\n",
    "epochs = 5"
   ]
  },
  {
   "cell_type": "markdown",
   "id": "2f83ac8c",
   "metadata": {},
   "source": [
    "__Optimization Loop__\n",
    "\n",
    "Once we set our hyperparameters, we can then train and optimize our model with an optimization loop. Each iteration of the optimization loop is called an epoch.\n",
    "\n",
    "Each epoch consists of two main parts:\n",
    "<ul>\n",
    "    <li><b>The Train Loop</b> - iterate over the training dataset and try to converge to optimal parameters.</li>\n",
    "    <li><b>The Validation/Test Loop</b> - iterate over the test dataset to check if model performance is improving.</li>\n",
    "</ul>"
   ]
  },
  {
   "cell_type": "markdown",
   "id": "789954ce",
   "metadata": {},
   "source": [
    "__Loss Function__\n",
    "\n",
    "When presented with some training data, our untrained network is likely not to give the correct answer. __Loss function__ measures the degree of dissimilarity of obtained result to the target value, and it is the loss function that we want to minimize during training. To calculate the loss we make a prediction using the inputs of our given data sample and compare it against the true data label value.\n",
    "\n",
    "Common loss functions include <code>nn.MSELoss</code> (Mean Square Error) for regression tasks, and <code>nn.NLLLoss</code> (Negative Log Likelihood) for classification. <code>nn.CrossEntropyLoss</code> combines <code>nn.LogSoftmax</code> and <code>nn.NLLLoss</code>.\n",
    "\n",
    "We pass our model’s output logits to <code>nn.CrossEntropyLoss</code>, which will normalize the logits and compute the prediction error."
   ]
  },
  {
   "cell_type": "code",
   "execution_count": 8,
   "id": "c1a6537d",
   "metadata": {},
   "outputs": [],
   "source": [
    "# Initialize the loss function\n",
    "loss_fn = nn.CrossEntropyLoss()"
   ]
  },
  {
   "cell_type": "markdown",
   "id": "f3adfe76",
   "metadata": {},
   "source": [
    "__Optimizer__\n",
    "\n",
    "Optimization is the process of adjusting model parameters to reduce model error in each training step. __Optimization algorithms__ define how this process is performed (in this example we use Stochastic Gradient Descent). All optimization logic is encapsulated in the optimizer object. Here, we use the SGD optimizer; additionally, there are many [different optimizers](https://pytorch.org/docs/stable/optim.html) available in PyTorch such as ADAM and RMSProp, that work better for different kinds of models and data.\n",
    "\n",
    "We initialize the optimizer by registering the model’s parameters that need to be trained, and passing in the learning rate hyperparameter."
   ]
  },
  {
   "cell_type": "code",
   "execution_count": 9,
   "id": "0d3f8492",
   "metadata": {},
   "outputs": [],
   "source": [
    "optimizer = torch.optim.SGD(model.parameters(), lr=learning_rate)"
   ]
  },
  {
   "cell_type": "markdown",
   "id": "941ebdf2",
   "metadata": {},
   "source": [
    "Inside the training loop, optimization happens in three steps:\n",
    "<ul>\n",
    "    <li>Call <code>optimizer.zero_grad()</code> to reset the gradients of model parameters. Gradients by default add up; to prevent double-counting, we explicitly zero them at each iteration.</li>\n",
    "    <li>Backpropagate the prediction loss with a call to <code>loss.backwards()</code>. PyTorch deposits the gradients of the loss w.r.t. each parameter.</li>\n",
    "    <li>Once we have our gradients, we call <code>optimizer.step()</code> to adjust the parameters by the gradients collected in the backward pass.</li>\n",
    "</ul>"
   ]
  },
  {
   "cell_type": "markdown",
   "id": "9f14fce4",
   "metadata": {},
   "source": [
    "__Full Implementation__"
   ]
  },
  {
   "cell_type": "code",
   "execution_count": 10,
   "id": "11c592fb",
   "metadata": {},
   "outputs": [],
   "source": [
    "# We define train_loop that loops over our optimization code, \n",
    "# and test_loop that evaluates the model’s performance against our test data.\n",
    "\n",
    "def train_loop(dataloader, model, loss_fn, optimizer):\n",
    "    size = len(dataloader.dataset)\n",
    "    for batch, (X, y) in enumerate(dataloader):\n",
    "        # Compute prediction and loss\n",
    "        pred = model(X)\n",
    "        loss = loss_fn(pred, y)\n",
    "\n",
    "        # Backpropagation\n",
    "        optimizer.zero_grad()\n",
    "        loss.backward()\n",
    "        optimizer.step()\n",
    "\n",
    "        if batch % 100 == 0:\n",
    "            loss, current = loss.item(), batch * len(X)\n",
    "            print(f\"loss: {loss:>7f}  [{current:>5d}/{size:>5d}]\")\n",
    "\n",
    "\n",
    "def test_loop(dataloader, model, loss_fn):\n",
    "    size = len(dataloader.dataset)\n",
    "    num_batches = len(dataloader)\n",
    "    test_loss, correct = 0, 0\n",
    "\n",
    "    with torch.no_grad():\n",
    "        for X, y in dataloader:\n",
    "            pred = model(X)\n",
    "            test_loss += loss_fn(pred, y).item()\n",
    "            correct += (pred.argmax(1) == y).type(torch.float).sum().item()\n",
    "\n",
    "    test_loss /= num_batches\n",
    "    correct /= size\n",
    "    print(f\"Test Error: \\n Accuracy: {(100*correct):>0.1f}%, Avg loss: {test_loss:>8f} \\n\")\n"
   ]
  },
  {
   "cell_type": "code",
   "execution_count": 11,
   "id": "28875bcf",
   "metadata": {},
   "outputs": [
    {
     "name": "stdout",
     "output_type": "stream",
     "text": [
      "Epoch 1\n",
      "-------------------------------\n",
      "loss: 2.295915  [    0/60000]\n",
      "loss: 2.293642  [ 6400/60000]\n",
      "loss: 2.280433  [12800/60000]\n",
      "loss: 2.285360  [19200/60000]\n",
      "loss: 2.282107  [25600/60000]\n",
      "loss: 2.253278  [32000/60000]\n",
      "loss: 2.269715  [38400/60000]\n",
      "loss: 2.246048  [44800/60000]\n",
      "loss: 2.227989  [51200/60000]\n",
      "loss: 2.232788  [57600/60000]\n",
      "Test Error: \n",
      " Accuracy: 30.1%, Avg loss: 2.228287 \n",
      "\n",
      "Epoch 2\n",
      "-------------------------------\n",
      "loss: 2.215982  [    0/60000]\n",
      "loss: 2.237209  [ 6400/60000]\n",
      "loss: 2.199034  [12800/60000]\n",
      "loss: 2.227150  [19200/60000]\n",
      "loss: 2.219539  [25600/60000]\n",
      "loss: 2.151775  [32000/60000]\n",
      "loss: 2.200314  [38400/60000]\n",
      "loss: 2.143411  [44800/60000]\n",
      "loss: 2.110806  [51200/60000]\n",
      "loss: 2.133810  [57600/60000]\n",
      "Test Error: \n",
      " Accuracy: 33.8%, Avg loss: 2.121686 \n",
      "\n",
      "Epoch 3\n",
      "-------------------------------\n",
      "loss: 2.094414  [    0/60000]\n",
      "loss: 2.144430  [ 6400/60000]\n",
      "loss: 2.065641  [12800/60000]\n",
      "loss: 2.129237  [19200/60000]\n",
      "loss: 2.116353  [25600/60000]\n",
      "loss: 1.997418  [32000/60000]\n",
      "loss: 2.083845  [38400/60000]\n",
      "loss: 1.979105  [44800/60000]\n",
      "loss: 1.933794  [51200/60000]\n",
      "loss: 1.988959  [57600/60000]\n",
      "Test Error: \n",
      " Accuracy: 37.1%, Avg loss: 1.964460 \n",
      "\n",
      "Epoch 4\n",
      "-------------------------------\n",
      "loss: 1.918859  [    0/60000]\n",
      "loss: 2.009119  [ 6400/60000]\n",
      "loss: 1.881225  [12800/60000]\n",
      "loss: 1.994978  [19200/60000]\n",
      "loss: 1.983769  [25600/60000]\n",
      "loss: 1.818316  [32000/60000]\n",
      "loss: 1.944425  [38400/60000]\n",
      "loss: 1.797104  [44800/60000]\n",
      "loss: 1.757949  [51200/60000]\n",
      "loss: 1.844315  [57600/60000]\n",
      "Test Error: \n",
      " Accuracy: 37.3%, Avg loss: 1.812826 \n",
      "\n",
      "Epoch 5\n",
      "-------------------------------\n",
      "loss: 1.753793  [    0/60000]\n",
      "loss: 1.882135  [ 6400/60000]\n",
      "loss: 1.717050  [12800/60000]\n",
      "loss: 1.882705  [19200/60000]\n",
      "loss: 1.874294  [25600/60000]\n",
      "loss: 1.681827  [32000/60000]\n",
      "loss: 1.843388  [38400/60000]\n",
      "loss: 1.667544  [44800/60000]\n",
      "loss: 1.637627  [51200/60000]\n",
      "loss: 1.748785  [57600/60000]\n",
      "Test Error: \n",
      " Accuracy: 37.7%, Avg loss: 1.708846 \n",
      "\n",
      "Epoch 6\n",
      "-------------------------------\n",
      "loss: 1.638135  [    0/60000]\n",
      "loss: 1.789861  [ 6400/60000]\n",
      "loss: 1.602378  [12800/60000]\n",
      "loss: 1.804525  [19200/60000]\n",
      "loss: 1.801871  [25600/60000]\n",
      "loss: 1.590993  [32000/60000]\n",
      "loss: 1.780749  [38400/60000]\n",
      "loss: 1.584073  [44800/60000]\n",
      "loss: 1.560837  [51200/60000]\n",
      "loss: 1.687646  [57600/60000]\n",
      "Test Error: \n",
      " Accuracy: 38.2%, Avg loss: 1.638705 \n",
      "\n",
      "Epoch 7\n",
      "-------------------------------\n",
      "loss: 1.558400  [    0/60000]\n",
      "loss: 1.724070  [ 6400/60000]\n",
      "loss: 1.521182  [12800/60000]\n",
      "loss: 1.744900  [19200/60000]\n",
      "loss: 1.753937  [25600/60000]\n",
      "loss: 1.527479  [32000/60000]\n",
      "loss: 1.740480  [38400/60000]\n",
      "loss: 1.527946  [44800/60000]\n",
      "loss: 1.509126  [51200/60000]\n",
      "loss: 1.643626  [57600/60000]\n",
      "Test Error: \n",
      " Accuracy: 38.7%, Avg loss: 1.588691 \n",
      "\n",
      "Epoch 8\n",
      "-------------------------------\n",
      "loss: 1.499767  [    0/60000]\n",
      "loss: 1.677247  [ 6400/60000]\n",
      "loss: 1.462035  [12800/60000]\n",
      "loss: 1.696399  [19200/60000]\n",
      "loss: 1.722151  [25600/60000]\n",
      "loss: 1.480046  [32000/60000]\n",
      "loss: 1.712487  [38400/60000]\n",
      "loss: 1.487558  [44800/60000]\n",
      "loss: 1.472795  [51200/60000]\n",
      "loss: 1.609895  [57600/60000]\n",
      "Test Error: \n",
      " Accuracy: 39.1%, Avg loss: 1.552142 \n",
      "\n",
      "Epoch 9\n",
      "-------------------------------\n",
      "loss: 1.454944  [    0/60000]\n",
      "loss: 1.642241  [ 6400/60000]\n",
      "loss: 1.417154  [12800/60000]\n",
      "loss: 1.657960  [19200/60000]\n",
      "loss: 1.701416  [25600/60000]\n",
      "loss: 1.444125  [32000/60000]\n",
      "loss: 1.691997  [38400/60000]\n",
      "loss: 1.458823  [44800/60000]\n",
      "loss: 1.446066  [51200/60000]\n",
      "loss: 1.583585  [57600/60000]\n",
      "Test Error: \n",
      " Accuracy: 39.4%, Avg loss: 1.524398 \n",
      "\n",
      "Epoch 10\n",
      "-------------------------------\n",
      "loss: 1.418766  [    0/60000]\n",
      "loss: 1.614246  [ 6400/60000]\n",
      "loss: 1.381956  [12800/60000]\n",
      "loss: 1.626531  [19200/60000]\n",
      "loss: 1.686488  [25600/60000]\n",
      "loss: 1.416399  [32000/60000]\n",
      "loss: 1.675867  [38400/60000]\n",
      "loss: 1.438066  [44800/60000]\n",
      "loss: 1.426246  [51200/60000]\n",
      "loss: 1.561859  [57600/60000]\n",
      "Test Error: \n",
      " Accuracy: 39.8%, Avg loss: 1.502499 \n",
      "\n",
      "Done!\n"
     ]
    }
   ],
   "source": [
    "# We initialize the loss function and optimizer, and pass it to train_loop and test_loop. \n",
    "# Feel free to increase the number of epochs to track the model’s improving performance.\n",
    "\n",
    "loss_fn = nn.CrossEntropyLoss()\n",
    "optimizer = torch.optim.SGD(model.parameters(), lr=learning_rate)\n",
    "\n",
    "epochs = 10\n",
    "for t in range(epochs):\n",
    "    print(f\"Epoch {t+1}\\n-------------------------------\")\n",
    "    train_loop(train_dataloader, model, loss_fn, optimizer)\n",
    "    test_loop(test_dataloader, model, loss_fn)\n",
    "print(\"Done!\")"
   ]
  },
  {
   "cell_type": "code",
   "execution_count": null,
   "id": "e7e87cfc",
   "metadata": {},
   "outputs": [],
   "source": []
  }
 ],
 "metadata": {
  "kernelspec": {
   "display_name": "Python 3 (ipykernel)",
   "language": "python",
   "name": "python3"
  },
  "language_info": {
   "codemirror_mode": {
    "name": "ipython",
    "version": 3
   },
   "file_extension": ".py",
   "mimetype": "text/x-python",
   "name": "python",
   "nbconvert_exporter": "python",
   "pygments_lexer": "ipython3",
   "version": "3.9.6"
  }
 },
 "nbformat": 4,
 "nbformat_minor": 5
}
